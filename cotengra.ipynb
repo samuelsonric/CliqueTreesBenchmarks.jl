{
 "cells": [
  {
   "cell_type": "code",
   "execution_count": 1,
   "id": "2aafd727-7499-4bf1-b011-97886f58128a",
   "metadata": {},
   "outputs": [
    {
     "name": "stderr",
     "output_type": "stream",
     "text": [
      "\u001b[33m\u001b[1m┌ \u001b[22m\u001b[39m\u001b[33m\u001b[1mWarning: \u001b[22m\u001b[39mPackage GraphMakie not found in current path. It is needed to plot `EinExpr`s with `Makie`.\n",
      "\u001b[33m\u001b[1m│ \u001b[22m\u001b[39m- Run `import Pkg; Pkg.add(\"GraphMakie\")` or `]add GraphMakie` to install the GraphMakie package, then restart julia.\n",
      "\u001b[33m\u001b[1m└ \u001b[22m\u001b[39m\u001b[90m@ EinExprsMakieExt ~/Source/git/EinExprs.jl/ext/EinExprsMakieExt.jl:7\u001b[39m\n"
     ]
    },
    {
     "data": {
      "text/plain": [
       "TaskLocalRNG()"
      ]
     },
     "execution_count": 1,
     "metadata": {},
     "output_type": "execute_result"
    }
   ],
   "source": [
    "import KaHyPar\n",
    "\n",
    "include(\"core.jl\")\n",
    "\n",
    "Random.seed!(0)"
   ]
  },
  {
   "cell_type": "code",
   "execution_count": 2,
   "id": "4bac2823-fbb1-44ff-a451-9f5f5e2f1aaf",
   "metadata": {},
   "outputs": [],
   "source": [
    "file = \"test.txt\"\n",
    "path = joinpath(@__DIR__, \"circuits\", file)\n",
    "circuit = yaocircuit_from_qasm(path);"
   ]
  },
  {
   "cell_type": "code",
   "execution_count": 3,
   "id": "e6b627a7-6a1e-4197-8723-5a31ed1e3e32",
   "metadata": {},
   "outputs": [
    {
     "data": {
      "text/plain": [
       "5.0"
      ]
     },
     "execution_count": 3,
     "metadata": {},
     "output_type": "execute_result"
    }
   ],
   "source": [
    "# EinExprs\n",
    "\n",
    "T = SizedEinExpr\n",
    "network = make(T, circuit)\n",
    "\n",
    "optimizer = HyPar(imbalances=100:10:800)\n",
    "result = solve(network, optimizer)\n",
    "score(result)"
   ]
  },
  {
   "cell_type": "code",
   "execution_count": 4,
   "id": "1fbc1c4e-1928-469d-9e09-487d717f5865",
   "metadata": {},
   "outputs": [
    {
     "data": {
      "text/plain": [
       "5.0"
      ]
     },
     "execution_count": 4,
     "metadata": {},
     "output_type": "execute_result"
    }
   ],
   "source": [
    "# cotengra\n",
    "\n",
    "T = Py\n",
    "network = make(T, circuit)\n",
    "\n",
    "optimizer = ctg.HyperOptimizer()\n",
    "result = solve(network, optimizer)\n",
    "score(result)"
   ]
  },
  {
   "cell_type": "code",
   "execution_count": 5,
   "id": "6be1f1ad-5984-4c52-a432-de69f85079f7",
   "metadata": {
    "tags": []
   },
   "outputs": [],
   "source": [
    "file = \"bristlecone_70_1-40-1_0.txt\"\n",
    "path = joinpath(@__DIR__, \"circuits\", file)\n",
    "circuit = yaocircuit_from_qasm(path);"
   ]
  },
  {
   "cell_type": "code",
   "execution_count": 6,
   "id": "c2bda4b9-dcfd-42a3-84b5-416c9e101561",
   "metadata": {
    "tags": []
   },
   "outputs": [
    {
     "name": "stdout",
     "output_type": "stream",
     "text": [
      " 36.162196 seconds (27.10 M allocations: 1.958 GiB, 1.28% gc time)\n"
     ]
    },
    {
     "data": {
      "text/plain": [
       "40.0"
      ]
     },
     "execution_count": 6,
     "metadata": {},
     "output_type": "execute_result"
    }
   ],
   "source": [
    "# EinExprs\n",
    "\n",
    "T = SizedEinExpr\n",
    "network = make(T, circuit)\n",
    "\n",
    "optimizer = HyPar(imbalances=100:10:800)\n",
    "@time result = solve(network, optimizer)\n",
    "score(result)"
   ]
  },
  {
   "cell_type": "code",
   "execution_count": 7,
   "id": "8d32760a-ffe3-4c5e-a965-f83abc0fdd79",
   "metadata": {
    "tags": []
   },
   "outputs": [
    {
     "name": "stdout",
     "output_type": "stream",
     "text": [
      " 60.892718 seconds (15 allocations: 264 bytes)\n"
     ]
    },
    {
     "data": {
      "text/plain": [
       "48.0"
      ]
     },
     "execution_count": 7,
     "metadata": {},
     "output_type": "execute_result"
    }
   ],
   "source": [
    "# cotengra\n",
    "\n",
    "T = Py\n",
    "network = make(T, circuit)\n",
    "\n",
    "optimizer = ctg.HyperOptimizer()\n",
    "@time result = solve(network, optimizer)\n",
    "score(result)"
   ]
  },
  {
   "cell_type": "code",
   "execution_count": 8,
   "id": "b1009573-068d-493f-8db1-21d0dcfcb89b",
   "metadata": {
    "tags": []
   },
   "outputs": [],
   "source": [
    "file = \"sycamore_53_20_0.txt\"\n",
    "path = joinpath(@__DIR__, \"circuits\", file)\n",
    "circuit = yaocircuit_from_qasm(path);"
   ]
  },
  {
   "cell_type": "code",
   "execution_count": 9,
   "id": "dc55b04b-cd64-4dc6-94af-9ae585162a9c",
   "metadata": {
    "tags": []
   },
   "outputs": [
    {
     "name": "stdout",
     "output_type": "stream",
     "text": [
      " 56.903140 seconds (50.74 M allocations: 4.335 GiB, 1.49% gc time)\n"
     ]
    },
    {
     "data": {
      "text/plain": [
       "70.0"
      ]
     },
     "execution_count": 9,
     "metadata": {},
     "output_type": "execute_result"
    }
   ],
   "source": [
    "# EinExprs\n",
    "\n",
    "T = SizedEinExpr\n",
    "network = make(T, circuit)\n",
    "\n",
    "optimizer = HyPar(imbalances=100:10:800)\n",
    "@time result = solve(network, optimizer)\n",
    "score(result)"
   ]
  },
  {
   "cell_type": "code",
   "execution_count": 10,
   "id": "a77886d5-49e5-44cc-9620-a77faf540f17",
   "metadata": {
    "tags": []
   },
   "outputs": [
    {
     "name": "stdout",
     "output_type": "stream",
     "text": [
      " 94.873831 seconds (15 allocations: 264 bytes)\n"
     ]
    },
    {
     "data": {
      "text/plain": [
       "77.0"
      ]
     },
     "execution_count": 10,
     "metadata": {},
     "output_type": "execute_result"
    }
   ],
   "source": [
    "# cotengra\n",
    "\n",
    "T = Py\n",
    "network = make(T, circuit)\n",
    "\n",
    "optimizer = ctg.HyperOptimizer()\n",
    "@time result = solve(network, optimizer)\n",
    "score(result)"
   ]
  }
 ],
 "metadata": {
  "kernelspec": {
   "display_name": "Julia 1.11.5",
   "language": "julia",
   "name": "julia-1.11"
  },
  "language_info": {
   "file_extension": ".jl",
   "mimetype": "application/julia",
   "name": "julia",
   "version": "1.11.5"
  }
 },
 "nbformat": 4,
 "nbformat_minor": 5
}
